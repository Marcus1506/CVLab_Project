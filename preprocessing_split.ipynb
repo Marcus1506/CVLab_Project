{
 "cells": [
  {
   "cell_type": "code",
   "execution_count": 1,
   "metadata": {},
   "outputs": [
    {
     "name": "stderr",
     "output_type": "stream",
     "text": [
      "  0%|          | 0/1 [00:00<?, ?it/s]"
     ]
    },
    {
     "name": "stdout",
     "output_type": "stream",
     "text": [
      "Number of groups in data/third_data: 10170\n"
     ]
    },
    {
     "name": "stderr",
     "output_type": "stream",
     "text": [
      "100%|██████████| 1/1 [01:25<00:00, 85.82s/it]"
     ]
    },
    {
     "name": "stdout",
     "output_type": "stream",
     "text": [
      "Number of splitted groups in training set: 7119\n",
      "Number of splitted groups in evaluation set: 1525\n",
      "Number of splitted groups in test set: 1526\n",
      "Split complete.\n"
     ]
    },
    {
     "name": "stderr",
     "output_type": "stream",
     "text": [
      "\n"
     ]
    }
   ],
   "source": [
    "import os\n",
    "import shutil\n",
    "import numpy as np\n",
    "from itertools import groupby\n",
    "from tqdm import tqdm\n",
    "\n",
    "# Names of the directories (same location)\n",
    "source_dirs = ['data/third_data']\n",
    "destination_dir = 'data/third_data_split/'\n",
    "\n",
    "# Create the destination directories\n",
    "train_dir = os.path.join(destination_dir, 'Train')\n",
    "eval_dir = os.path.join(destination_dir, 'Eval')\n",
    "test_dir = os.path.join(destination_dir, 'Test')\n",
    "\n",
    "for dir in [train_dir, eval_dir, test_dir]:\n",
    "    if not os.path.exists(dir):\n",
    "        os.makedirs(dir)\n",
    "    else:\n",
    "        # Replace the existing files with new split\n",
    "        print(\"Destination is not empty. Replacing with new splitted files.\")\n",
    "        for file in os.listdir(dir):\n",
    "            os.remove(os.path.join(dir, file))\n",
    "\n",
    "# Go through each directory in source\n",
    "for source in tqdm(source_dirs):\n",
    "   \n",
    "    files = os.listdir(source)\n",
    "\n",
    "    # Group all the files with the same row number\n",
    "    file_groups = [list(group) for key, group in groupby(sorted(files), key=lambda x: x.split('_')[1])]\n",
    "    print(f\"Number of groups in {source}: {len(file_groups)}\")\n",
    "\n",
    "    # Random Split\n",
    "    #np.random.seed(42)\n",
    "    np.random.shuffle(file_groups)\n",
    "\n",
    "    # Split the list into train, eval and test (70%, 15%, 15%)\n",
    "    train_split = int(0.7 * len(file_groups))\n",
    "    eval_split = int(0.15 * len(file_groups)) + train_split\n",
    "\n",
    "    train_groups = file_groups[:train_split]\n",
    "    eval_groups = file_groups[train_split:eval_split]\n",
    "    test_groups = file_groups[eval_split:]\n",
    "\n",
    "    # Copy the file groups to the split directories\n",
    "    def copy_files(file_groups, destination):\n",
    "        for file_group in file_groups:\n",
    "            for file in file_group:\n",
    "                shutil.copy(os.path.join(source, file), os.path.join(destination, file))\n",
    "\n",
    "    copy_files(train_groups, train_dir)\n",
    "    copy_files(eval_groups, eval_dir)\n",
    "    copy_files(test_groups, test_dir)\n",
    "\n",
    "print(f\"Number of splitted groups in training set: {len(train_groups)}\")\n",
    "print(f\"Number of splitted groups in evaluation set: {len(eval_groups)}\")\n",
    "print(f\"Number of splitted groups in test set: {len(test_groups)}\")\n",
    "\n",
    "if not os.listdir(source):\n",
    "    print(\"Source directory is empty.\")\n",
    "    exit()\n",
    "\n",
    "print(\"Split complete.\")"
   ]
  },
  {
   "cell_type": "code",
   "execution_count": null,
   "metadata": {},
   "outputs": [],
   "source": []
  }
 ],
 "metadata": {
  "kernelspec": {
   "display_name": "nordfels",
   "language": "python",
   "name": "python3"
  },
  "language_info": {
   "codemirror_mode": {
    "name": "ipython",
    "version": 3
   },
   "file_extension": ".py",
   "mimetype": "text/x-python",
   "name": "python",
   "nbconvert_exporter": "python",
   "pygments_lexer": "ipython3",
   "version": "3.10.0"
  }
 },
 "nbformat": 4,
 "nbformat_minor": 2
}
